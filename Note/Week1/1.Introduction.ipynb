{
 "cells": [
  {
   "cell_type": "markdown",
   "metadata": {},
   "source": [
    "# Chapter1 Introduction "
   ]
  },
  {
   "cell_type": "markdown",
   "metadata": {},
   "source": [
    "##  1) Definition"
   ]
  },
  {
   "cell_type": "markdown",
   "metadata": {},
   "source": [
    "A computer program is said to learn from experience E with respect to some class of tasks T and performance measure P, if its performance at tasks in T, as measured by P, improves with experience E"
   ]
  },
  {
   "cell_type": "markdown",
   "metadata": {},
   "source": [
    "In general, any machine learning problem can be assigned to one of two broad classifications:\n",
    "\n",
    "<font color='red'>Supervised learning</font> and <font color='red'>Unsupervised learning</font> .\n"
   ]
  },
  {
   "cell_type": "markdown",
   "metadata": {},
   "source": [
    "### (1) Supervised Learning"
   ]
  },
  {
   "cell_type": "markdown",
   "metadata": {},
   "source": [
    "In supervised learning, we are given a data set and already know what our correct output should look like, having the idea that there is a relationship between the input and the output.\n",
    "\n",
    "Supervised learning problems are categorized into <font color='red'>\"regression\"</font> and <font color='red'>\"classification\"</font> problems."
   ]
  },
  {
   "cell_type": "markdown",
   "metadata": {},
   "source": [
    "### 2)Unsupervised Learning"
   ]
  },
  {
   "cell_type": "markdown",
   "metadata": {},
   "source": [
    "Unsupervised learning allows us to approach <font color='red'>problems with little or no idea </font>problems with little or no idea what our results should look like. We can derive structure from data where we don't necessarily know the effect of the variables."
   ]
  },
  {
   "cell_type": "markdown",
   "metadata": {},
   "source": [
    "## 2) Model & Cost Function"
   ]
  },
  {
   "cell_type": "markdown",
   "metadata": {},
   "source": [
    "### (1)Model"
   ]
  },
  {
   "cell_type": "markdown",
   "metadata": {
    "collapsed": true
   },
   "source": [
    "Notations  \n",
    "  \n",
    "$x^{(i)}$:  “input” variables, also called input features  \n",
    "$y^{(i)}$:  “output” or target variable  \n",
    "$(x^{(i)}, y^{(i)})$: a training example  \n",
    "$i = 1,\\ldots ,m$:  a training set  \n",
    "$X$ : the space of input values  \n",
    "$Y$ : the space of output values  "
   ]
  },
  {
   "cell_type": "markdown",
   "metadata": {
    "collapsed": true
   },
   "source": [
    "To describe the supervised learning problem slightly more formally, our goal is, given a training set, to learn a function  \n",
    "$$h:X\\rightarrow Y$$  \n",
    "$$\\quad \\ x\\rightarrow h(x)$$  \n",
    "Function h is called a <font color='red'>hypothesis</font>.  \n",
    "  \n",
    "The process is therefore like this:  \n",
    "<img src=\"https://d3c33hcgiwev3.cloudfront.net/imageAssetProxy.v1/H6qTdZmYEeaagxL7xdFKxA_2f0f671110e8f7446bb2b5b2f75a8874_Screenshot-2016-10-23-20.14.58.png?expiry=1480032000000&hmac=MLg3BzaDPPtANczWCkFn56LIxoVSRMEK_nW0S7pmgX4\"\n",
    "style=\"width:395px;height260:px;float:center\">"
   ]
  },
  {
   "cell_type": "markdown",
   "metadata": {},
   "source": [
    "### (2)Cost Function"
   ]
  },
  {
   "cell_type": "markdown",
   "metadata": {},
   "source": [
    "# Mark important points"
   ]
  },
  {
   "cell_type": "markdown",
   "metadata": {},
   "source": [
    "Week1  \n",
    "Chapter Linear Algebra Review  \n",
    "$\\quad\\quad$   Matrix Matrix Multiplication 7:45\n",
    "  \n",
    "Week2\n",
    "Chapter Multivariate Linear Regression  \n",
    "$\\quad\\quad$   Gradient Descent in Practice I - Feature Scaling 6:00"
   ]
  },
  {
   "cell_type": "code",
   "execution_count": null,
   "metadata": {
    "collapsed": true
   },
   "outputs": [],
   "source": []
  }
 ],
 "metadata": {
  "anaconda-cloud": {},
  "kernelspec": {
   "display_name": "Python [conda root]",
   "language": "python",
   "name": "conda-root-py"
  },
  "language_info": {
   "codemirror_mode": {
    "name": "ipython",
    "version": 2
   },
   "file_extension": ".py",
   "mimetype": "text/x-python",
   "name": "python",
   "nbconvert_exporter": "python",
   "pygments_lexer": "ipython2",
   "version": "2.7.12"
  }
 },
 "nbformat": 4,
 "nbformat_minor": 1
}
