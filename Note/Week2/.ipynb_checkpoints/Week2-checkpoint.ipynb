{
 "cells": [
  {
   "cell_type": "markdown",
   "metadata": {},
   "source": [
    "# Multivariate Linear Regression "
   ]
  },
  {
   "cell_type": "markdown",
   "metadata": {},
   "source": [
    "##  1) Multiple Features"
   ]
  },
  {
   "cell_type": "markdown",
   "metadata": {},
   "source": [
    "Linear regression with multiple variables is also known as <font color=\"red\">\"multivariate linear regression\"</font>.  \n",
    "  \n",
    "Notations:  \n",
    "$\\begin{align*}x_j^{(i)} &= \\text{value of feature } j \\text{ in the }i^{th}\\text{ training example} \\newline x^{(i)}& = \\text{the column vector of all the feature inputs of the }i^{th}\\text{ training example} \\newline m &= \\text{the number of training examples} \\newline n &= \\left| x^{(i)} \\right| ; \\text{(the number of features)} \\end{align*}$  \n",
    "  \n",
    "The multivariable form of the hypothesis function accommodating these multiple features is as follows:  \n",
    "$\\quad h_\\theta (x) = \\theta_0 + \\theta_1 x_1 + \\theta_2 x_2 + \\theta_3 x_3 + \\cdots + \\theta_n x_n$  \n",
    "  \n",
    "Using the definition of matrix multiplication,$h_\\theta (x)$can be concisely represented as:  \n",
    "$\\begin{align*}h_\\theta(x) =\\begin{bmatrix}\\theta_0 \\hspace{2em} \\theta_1 \\hspace{2em} ... \\hspace{2em} \\theta_n\\end{bmatrix}\\begin{bmatrix}x_0 \\newline x_1 \\newline \\vdots \\newline x_n\\end{bmatrix}= \\theta^T x\\quad \\quad\\text{where}\\quad x_{0}^{(i)} =1 \\text{ for } (i\\in { 1,\\dots, m } )\\end{align*}$  \n"
   ]
  },
  {
   "cell_type": "markdown",
   "metadata": {},
   "source": [
    "## 2) Gradient Descent"
   ]
  },
  {
   "cell_type": "markdown",
   "metadata": {},
   "source": [
    "### (1) Feature Scaling"
   ]
  },
  {
   "cell_type": "markdown",
   "metadata": {},
   "source": [
    "We can <font color='red'>speed up gradient descent</font> by having each of our input values in roughly the same range. This is because θ will descend quickly on small ranges and slowly on large ranges, and so will oscillate inefficiently down to the optimum when the variables are very uneven.  \n",
    "  \n",
    "Two techniques to help with this are <font color='blue'><b>feature scaling</b></font> and <font color='blue'><b>mean normalization</b></font>.  \n",
    "  \n",
    "Feature Scaling  \n",
    "Feature scaling involves dividing the input values by the range (i.e. the maximum value minus the minimum value) of the input variable.  \n",
    "Formula:  \n",
    "$$x_i := \\dfrac{x_i}{s_i}\\quad\\quad\\text{range: }-1 ≤ x_{(i)} ≤ 1$$\n",
    "  \n",
    "Mean Normalization  \n",
    "Mean normalization involves subtracting the average value for an input variable from the values for that input variable resulting in a new average value for the input variable of just zero. \n",
    "Formula(Feature Scaling + Mean Normalization):  \n",
    "  \n",
    "$$x_i := \\dfrac{x_i - \\mu_i}{s_i}\\quad\\quad\\text{range: }-0.5 ≤ x_{(i)} ≤ 0.5$$\n",
    "  \n",
    "Where $\\mu_i$ is the average of all the values for feature (i) and $s_i$ is the range of values (max - min), or $s_i$ is the standard deviation.\n"
   ]
  },
  {
   "cell_type": "markdown",
   "metadata": {},
   "source": [
    "### (2) Learning Rate"
   ]
  },
  {
   "cell_type": "markdown",
   "metadata": {},
   "source": [
    "If $\\alpha$ is too small: slow convergence.  \n",
    "  \n",
    "If $\\alpha$ is too large: ￼may not decrease on every iteration and thus may not converge."
   ]
  },
  {
   "cell_type": "code",
   "execution_count": null,
   "metadata": {
    "collapsed": true
   },
   "outputs": [],
   "source": []
  }
 ],
 "metadata": {
  "anaconda-cloud": {},
  "kernelspec": {
   "display_name": "Matlab",
   "language": "matlab",
   "name": "matlab"
  },
  "language_info": {
   "codemirror_mode": "octave",
   "file_extension": ".m",
   "help_links": [
    {
     "text": "MetaKernel Magics",
     "url": "https://github.com/calysto/metakernel/blob/master/metakernel/magics/README.md"
    }
   ],
   "mimetype": "text/x-octave",
   "name": "matlab",
   "version": "0.11.0"
  }
 },
 "nbformat": 4,
 "nbformat_minor": 1
}
