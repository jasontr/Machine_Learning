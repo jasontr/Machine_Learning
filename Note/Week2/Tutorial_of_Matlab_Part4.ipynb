{
 "cells": [
  {
   "cell_type": "markdown",
   "metadata": {},
   "source": [
    "# Control Statements: for, while, if statement"
   ]
  },
  {
   "cell_type": "code",
   "execution_count": 22,
   "metadata": {
    "collapsed": false
   },
   "outputs": [
    {
     "name": "stdout",
     "output_type": "stream",
     "text": [
      "v =\n",
      "\n",
      "     0\n",
      "     0\n",
      "     0\n",
      "     0\n",
      "     0\n",
      "     0\n",
      "     0\n",
      "     0\n",
      "     0\n",
      "     0\n"
     ]
    }
   ],
   "source": [
    "v = zeros(10, 1)"
   ]
  },
  {
   "cell_type": "code",
   "execution_count": 23,
   "metadata": {
    "collapsed": true
   },
   "outputs": [],
   "source": [
    "for i = 1: 10,\n",
    "    v(i) = 2 ^ i;\n",
    "end;"
   ]
  },
  {
   "cell_type": "code",
   "execution_count": 24,
   "metadata": {
    "collapsed": false
   },
   "outputs": [
    {
     "name": "stdout",
     "output_type": "stream",
     "text": [
      "v =\n",
      "\n",
      "           2\n",
      "           4\n",
      "           8\n",
      "          16\n",
      "          32\n",
      "          64\n",
      "         128\n",
      "         256\n",
      "         512\n",
      "        1024\n"
     ]
    }
   ],
   "source": [
    "v"
   ]
  },
  {
   "cell_type": "code",
   "execution_count": 25,
   "metadata": {
    "collapsed": false
   },
   "outputs": [
    {
     "name": "stdout",
     "output_type": "stream",
     "text": [
      "indices =\n",
      "\n",
      "     1     2     3     4     5     6     7     8     9    10\n"
     ]
    }
   ],
   "source": [
    "indices = 1:10"
   ]
  },
  {
   "cell_type": "code",
   "execution_count": 26,
   "metadata": {
    "collapsed": false
   },
   "outputs": [
    {
     "name": "stdout",
     "output_type": "stream",
     "text": [
      "1\n",
      "\n",
      "     2\n",
      "\n",
      "     3\n",
      "\n",
      "     4\n",
      "\n",
      "     5\n",
      "\n",
      "     6\n",
      "\n",
      "     7\n",
      "\n",
      "     8\n",
      "\n",
      "     9\n",
      "\n",
      "    10\n"
     ]
    }
   ],
   "source": [
    "for i = indices,\n",
    "    disp(i);\n",
    "end"
   ]
  },
  {
   "cell_type": "code",
   "execution_count": 27,
   "metadata": {
    "collapsed": false
   },
   "outputs": [],
   "source": [
    "i = 1;\n",
    "while i <= 5,\n",
    "    v(i) = 100;\n",
    "    i = i + 1;\n",
    "end;"
   ]
  },
  {
   "cell_type": "code",
   "execution_count": 28,
   "metadata": {
    "collapsed": false
   },
   "outputs": [
    {
     "name": "stdout",
     "output_type": "stream",
     "text": [
      "v =\n",
      "\n",
      "         100\n",
      "         100\n",
      "         100\n",
      "         100\n",
      "         100\n",
      "          64\n",
      "         128\n",
      "         256\n",
      "         512\n",
      "        1024\n"
     ]
    }
   ],
   "source": [
    "v"
   ]
  },
  {
   "cell_type": "code",
   "execution_count": 29,
   "metadata": {
    "collapsed": true
   },
   "outputs": [],
   "source": [
    "i = 1;\n",
    "while true,\n",
    "    v(i) = 999;\n",
    "    i = i + 1;\n",
    "    if i == 6, \n",
    "        break;\n",
    "    end;\n",
    "end;"
   ]
  },
  {
   "cell_type": "code",
   "execution_count": 30,
   "metadata": {
    "collapsed": false
   },
   "outputs": [
    {
     "name": "stdout",
     "output_type": "stream",
     "text": [
      "v =\n",
      "\n",
      "         999\n",
      "         999\n",
      "         999\n",
      "         999\n",
      "         999\n",
      "          64\n",
      "         128\n",
      "         256\n",
      "         512\n",
      "        1024\n"
     ]
    }
   ],
   "source": [
    "v"
   ]
  },
  {
   "cell_type": "code",
   "execution_count": 31,
   "metadata": {
    "collapsed": false
   },
   "outputs": [
    {
     "name": "stdout",
     "output_type": "stream",
     "text": [
      "The value is two.\n"
     ]
    }
   ],
   "source": [
    "v(1) = 2;\n",
    "if v(1) == 1,\n",
    "    disp('The value is one.');\n",
    "elseif v(1) ==2,\n",
    "    disp('The value is two.');\n",
    "else,\n",
    "    disp('The value is not one or two.');\n",
    "end;"
   ]
  },
  {
   "cell_type": "code",
   "execution_count": 32,
   "metadata": {
    "collapsed": false
   },
   "outputs": [
    {
     "name": "stdout",
     "output_type": "stream",
     "text": [
      "ans =\n",
      "\n",
      "    25\n"
     ]
    }
   ],
   "source": [
    "squareThisNumber(5)"
   ]
  },
  {
   "cell_type": "code",
   "execution_count": 33,
   "metadata": {
    "collapsed": false
   },
   "outputs": [],
   "source": [
    "% Matlab search path (advanced/optional)\n",
    "addpath('C:\\Users\\Jason Lau\\Documents\\coding\\Machine_Learning\\Note\\Week2')"
   ]
  },
  {
   "cell_type": "code",
   "execution_count": 34,
   "metadata": {
    "collapsed": true
   },
   "outputs": [],
   "source": [
    "cd 'C:\\'"
   ]
  },
  {
   "cell_type": "code",
   "execution_count": 35,
   "metadata": {
    "collapsed": false
   },
   "outputs": [
    {
     "name": "stdout",
     "output_type": "stream",
     "text": [
      "ans =\n",
      "\n",
      "C:\\\n"
     ]
    }
   ],
   "source": [
    "pwd"
   ]
  },
  {
   "cell_type": "code",
   "execution_count": 36,
   "metadata": {
    "collapsed": false
   },
   "outputs": [
    {
     "name": "stdout",
     "output_type": "stream",
     "text": [
      "ans =\n",
      "\n",
      "    25\n"
     ]
    }
   ],
   "source": [
    "squareThisNumber(5) % The function still work."
   ]
  },
  {
   "cell_type": "code",
   "execution_count": 37,
   "metadata": {
    "collapsed": false
   },
   "outputs": [
    {
     "name": "stdout",
     "output_type": "stream",
     "text": [
      "a =\n",
      "\n",
      "    25\n",
      "\n",
      "\n",
      "b =\n",
      "\n",
      "   125\n"
     ]
    }
   ],
   "source": [
    "[a, b] = squareAndCubeThisNumber(5)"
   ]
  }
 ],
 "metadata": {
  "anaconda-cloud": {},
  "kernelspec": {
   "display_name": "Matlab",
   "language": "matlab",
   "name": "matlab"
  },
  "language_info": {
   "codemirror_mode": "octave",
   "file_extension": ".m",
   "help_links": [
    {
     "text": "MetaKernel Magics",
     "url": "https://github.com/calysto/metakernel/blob/master/metakernel/magics/README.md"
    }
   ],
   "mimetype": "text/x-octave",
   "name": "matlab",
   "version": "0.11.0"
  }
 },
 "nbformat": 4,
 "nbformat_minor": 1
}
